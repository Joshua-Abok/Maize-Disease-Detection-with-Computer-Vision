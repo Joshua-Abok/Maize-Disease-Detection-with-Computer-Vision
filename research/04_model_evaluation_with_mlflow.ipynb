{
 "cells": [
  {
   "cell_type": "code",
   "execution_count": 1,
   "metadata": {},
   "outputs": [],
   "source": [
    "import os "
   ]
  },
  {
   "cell_type": "code",
   "execution_count": 2,
   "metadata": {},
   "outputs": [
    {
     "data": {
      "text/plain": [
       "'d:\\\\per\\\\Codes\\\\Kaggle\\\\Maize-Disease-Detection-with-Computer-Vision\\\\research'"
      ]
     },
     "execution_count": 2,
     "metadata": {},
     "output_type": "execute_result"
    }
   ],
   "source": [
    "%pwd"
   ]
  },
  {
   "cell_type": "code",
   "execution_count": 3,
   "metadata": {},
   "outputs": [],
   "source": [
    "os.chdir('../')"
   ]
  },
  {
   "cell_type": "code",
   "execution_count": 4,
   "metadata": {},
   "outputs": [
    {
     "data": {
      "text/plain": [
       "'d:\\\\per\\\\Codes\\\\Kaggle\\\\Maize-Disease-Detection-with-Computer-Vision'"
      ]
     },
     "execution_count": 4,
     "metadata": {},
     "output_type": "execute_result"
    }
   ],
   "source": [
    "%pwd"
   ]
  },
  {
   "cell_type": "code",
   "execution_count": 5,
   "metadata": {},
   "outputs": [],
   "source": [
    "# credentials in the environment variable\n",
    "os.environ[\"MLFLOW_TRACKING_URI\"] = 'https://dagshub.com/Joshua-Abok/Maize-Disease-Detection-with-Computer-Vision.mlflow'\n",
    "os.environ[\"MLFLOW_TRACKING_USERNAME\"] = 'Joshua-Abok'\n",
    "os.environ[\"MLFLOW_TRACKING_PASSWORD\"] = [password]"
   ]
  },
  {
   "cell_type": "code",
   "execution_count": 6,
   "metadata": {},
   "outputs": [],
   "source": [
    "import tensorflow as tf"
   ]
  },
  {
   "cell_type": "code",
   "execution_count": 7,
   "metadata": {},
   "outputs": [],
   "source": [
    "# load model\n",
    "model = tf.keras.models.load_model(\"artifacts/training/model.h5\")"
   ]
  },
  {
   "cell_type": "markdown",
   "metadata": {},
   "source": [
    "##### 4. update/initialize entities"
   ]
  },
  {
   "cell_type": "code",
   "execution_count": 8,
   "metadata": {},
   "outputs": [],
   "source": [
    "from dataclasses import dataclass\n",
    "from pathlib import Path\n",
    "\n",
    "@dataclass(frozen=True)\n",
    "class EvaluationConfig:\n",
    "    path_of_model: Path\n",
    "    training_data: Path\n",
    "    all_params: dict\n",
    "    mlflow_uri: str\n",
    "    params_image_size: list\n",
    "    params_batch_size: int"
   ]
  },
  {
   "cell_type": "markdown",
   "metadata": {},
   "source": [
    "##### 5. update configuration manager in src config"
   ]
  },
  {
   "cell_type": "code",
   "execution_count": 9,
   "metadata": {},
   "outputs": [],
   "source": [
    "from src.maizeDiseaseDetection.constants import * \n",
    "from src.maizeDiseaseDetection.utils.common import read_yaml, create_directories, save_json"
   ]
  },
  {
   "cell_type": "code",
   "execution_count": 10,
   "metadata": {},
   "outputs": [],
   "source": [
    "class ConfigurationManager: \n",
    "    def __init__(\n",
    "            self, \n",
    "            config_filepath = CONFIG_FILE_PATH,\n",
    "            params_filepath = PARAMS_FILE_PATH): \n",
    "\n",
    "            self.config = read_yaml(config_filepath)\n",
    "            self.params = read_yaml(params_filepath)\n",
    "\n",
    "            create_directories([self.config.artifacts_root])\n",
    "\n",
    "\n",
    "    def get_evaluation_config(self) -> EvaluationConfig:\n",
    "          eval_config = EvaluationConfig(\n",
    "                path_of_model=\"artifacts/training/model.h5\", \n",
    "                training_data=\"artifacts/data_ingestion/Pictures\", \n",
    "                mlflow_uri=\"https://dagshub.com/Joshua-Abok/Maize-Disease-Detection-with-Computer-Vision.mlflow\",\n",
    "                all_params=self.params, \n",
    "                params_image_size=self.params.IMAGE_SIZE, \n",
    "                params_batch_size=self.params.BATCH_SIZE\n",
    "          )\n",
    "          return eval_config"
   ]
  },
  {
   "cell_type": "markdown",
   "metadata": {},
   "source": [
    "##### 6. Update components"
   ]
  },
  {
   "cell_type": "code",
   "execution_count": 11,
   "metadata": {},
   "outputs": [],
   "source": [
    "import tensorflow as tf\n",
    "from pathlib import Path\n",
    "import mlflow\n",
    "import mlflow.keras\n",
    "from urllib.parse import urlparse"
   ]
  },
  {
   "cell_type": "code",
   "execution_count": 14,
   "metadata": {},
   "outputs": [],
   "source": [
    "class Evaluation: \n",
    "    def __init__(self, config: EvaluationConfig):\n",
    "        self.config = config\n",
    "\n",
    "    \n",
    "    def _valid_generator(self):\n",
    "        \n",
    "        datagenerator_kwargs = dict(\n",
    "            rescale = 1./255,\n",
    "            validation_split=0.30\n",
    "        )\n",
    "\n",
    "        dataflow_kwargs = dict(\n",
    "            target_size = self.config.params_image_size[:-1], \n",
    "            batch_size=self.config.params_batch_size, \n",
    "            interpolation=\"bilinear\"\n",
    "        )\n",
    "\n",
    "        valid_datagenerator = tf.keras.preprocessing.image.ImageDataGenerator(\n",
    "            **datagenerator_kwargs\n",
    "        )\n",
    "\n",
    "\n",
    "        self._valid_generator =  valid_datagenerator.flow_from_directory(\n",
    "            directory=self.config.training_data, \n",
    "            subset=\"validation\", \n",
    "            shuffle=False, \n",
    "            **dataflow_kwargs\n",
    "        )\n",
    "\n",
    "\n",
    "\n",
    "    # staticmethod decorator to load the model\n",
    "    @staticmethod\n",
    "    def load_model(path: Path) -> tf.keras.Model:\n",
    "        return tf.keras.models.load_model(path)\n",
    "    \n",
    "\n",
    "    #after loading the model, now evaluate the model\n",
    "    def evaluation(self): \n",
    "        self.model = self.load_model(self.config.path_of_model)\n",
    "        self._valid_generator()   #generate validation dataset\n",
    "        self.score = model.evaluate(self._valid_generator)   # evaluate model, as taking the valid_generator\n",
    "                                                            # and determine some score. set the score\n",
    "        self.save_score()   # calling the save_score method\n",
    "\n",
    "    # save the score \n",
    "    def save_score(self): \n",
    "        scores = {\"loss\": self.score[0], \"accuracy\": self.score[1]}\n",
    "        save_json(path=Path(\"scores.json\"), data=scores)   # saving scores in json file\n",
    "\n",
    "\n",
    "    # mlflow integration\n",
    "    def log_into_mlflow(self): \n",
    "        mlflow.set_registry_uri(self.config.mlflow_uri) # uri track the server, will take the lin\n",
    "        tracking_uri_type_store = urlparse(mlflow.get_tracking_uri()).scheme\n",
    "\n",
    "        with mlflow.start_run():    # start tracking the experiment\n",
    "            mlflow.log_params(self.config.all_params)  # log the params from config file\n",
    "            mlflow.log_metrics(\n",
    "                {\"loss\": self.score[0], \"accuracy\": self.score[1]}  # log metrics loss, accuracy\n",
    "            )\n",
    "\n",
    "            # Model registry does not work with file store \n",
    "            if tracking_uri_type_store != \"file\":\n",
    "                # Register the model \n",
    "                # There are other ways to use the Model Registry, which depends on the use case, \n",
    "                # please refer to the doc for more information: \n",
    "                mlflow.keras.log_model(self.model, \"model\", registered_model_name=\"VGG16Model\")\n",
    "            else: \n",
    "                mlflow.keras.log_model(self.model, \"model\")\n",
    "\n",
    "\n",
    "                                            \n"
   ]
  },
  {
   "cell_type": "markdown",
   "metadata": {},
   "source": [
    "##### 7. initialize/update the pipeline"
   ]
  },
  {
   "cell_type": "code",
   "execution_count": 15,
   "metadata": {},
   "outputs": [
    {
     "name": "stdout",
     "output_type": "stream",
     "text": [
      "[2023-10-29 16:02:00,120: INFO: common: yaml file: config\\config.yaml loaded successfully]\n",
      "[2023-10-29 16:02:00,126: INFO: common: yaml file: params.yaml loaded successfully]\n",
      "[2023-10-29 16:02:00,128: INFO: common: created directory at: artifacts]\n",
      "Found 39 images belonging to 4 classes.\n",
      "3/3 [==============================] - 11s 3s/step - loss: 51.0117 - accuracy: 0.2308\n",
      "[2023-10-29 16:02:11,960: INFO: common: json file saved at: scores.json]\n"
     ]
    },
    {
     "name": "stderr",
     "output_type": "stream",
     "text": [
      "2023/10/29 16:02:30 WARNING mlflow.tensorflow: You are saving a TensorFlow Core model or Keras model without a signature. Inference with mlflow.pyfunc.spark_udf() will not work unless the model's pyfunc representation accepts pandas DataFrames as inference inputs.\n"
     ]
    },
    {
     "name": "stdout",
     "output_type": "stream",
     "text": [
      "[2023-10-29 16:02:32,697: WARNING: save: Found untraced functions such as _jit_compiled_convolution_op, _jit_compiled_convolution_op, _jit_compiled_convolution_op, _jit_compiled_convolution_op, _jit_compiled_convolution_op while saving (showing 5 of 14). These functions will not be directly callable after loading.]\n",
      "INFO:tensorflow:Assets written to: C:\\Users\\user\\AppData\\Local\\Temp\\tmpkmr6uo8c\\model\\data\\model\\assets\n",
      "[2023-10-29 16:02:33,779: INFO: builder_impl: Assets written to: C:\\Users\\user\\AppData\\Local\\Temp\\tmpkmr6uo8c\\model\\data\\model\\assets]\n"
     ]
    },
    {
     "name": "stderr",
     "output_type": "stream",
     "text": [
      "Registered model 'VGG16Model' already exists. Creating a new version of this model...\n",
      "2023/10/29 16:04:49 INFO mlflow.tracking._model_registry.client: Waiting up to 300 seconds for model version to finish creation.                     Model name: VGG16Model, version 2\n",
      "Created version '2' of model 'VGG16Model'.\n"
     ]
    }
   ],
   "source": [
    "#defining pipeline would mean: \n",
    "    #  1. calling the evaluation() function\n",
    "    #  2. calling the mlflow tracking -> log_into_mlflow()\n",
    "\n",
    "try: \n",
    "    config = ConfigurationManager()   #passing training config in the training\n",
    "    eval_config = config.get_evaluation_config()\n",
    "    evaluation = Evaluation(config=eval_config)\n",
    "    evaluation.evaluation()\n",
    "    evaluation.log_into_mlflow()   # logging experiment to mlflow\n",
    "    \n",
    "except Exception as e:   # if any exception is there \n",
    "    raise e "
   ]
  },
  {
   "cell_type": "code",
   "execution_count": null,
   "metadata": {},
   "outputs": [],
   "source": []
  }
 ],
 "metadata": {
  "kernelspec": {
   "display_name": "kidney_cls",
   "language": "python",
   "name": "python3"
  },
  "language_info": {
   "codemirror_mode": {
    "name": "ipython",
    "version": 3
   },
   "file_extension": ".py",
   "mimetype": "text/x-python",
   "name": "python",
   "nbconvert_exporter": "python",
   "pygments_lexer": "ipython3",
   "version": "3.8.18"
  }
 },
 "nbformat": 4,
 "nbformat_minor": 2
}
