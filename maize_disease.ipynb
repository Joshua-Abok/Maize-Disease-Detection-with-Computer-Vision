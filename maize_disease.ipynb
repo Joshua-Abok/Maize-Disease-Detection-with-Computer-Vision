{
 "cells": [
  {
   "cell_type": "code",
   "execution_count": 3,
   "metadata": {},
   "outputs": [],
   "source": [
    "# import tensorflow as tf \n",
    "# print(tf.version.VERSION)\n",
    "# device_name = tf.test.gpu_device_name()\n",
    "# if device_name != '/device:GPU:0':\n",
    "#     raise SystemError('GPU device not found')\n",
    "# print('Found GPU at: {}'.format(device_name))"
   ]
  },
  {
   "cell_type": "code",
   "execution_count": 1,
   "metadata": {},
   "outputs": [],
   "source": [
    "import matplotlib.pyplot as plt\n",
    "import numpy as np \n",
    "import tensorflow as tf \n",
    "IMG_HEIGHT = 224 \n",
    "IMG_WIDTH = 224\n",
    "IMG_CHANNEL = 3 \n",
    "\n",
    "def read_and_decode(filename, reshape_dims):\n",
    "    #read the file \n",
    "    img = tf.io.read_file(filename)\n",
    "    \n",
    "    # convert the compressed string to a 3D uint8 tensor\n",
    "    img = tf.image.decode_jpeg(img, channels=IMG_CHANNEL)\n",
    "    print(f'img_channel output: {type(img)}')\n",
    "    # convert_image_type to convert to floats in the [0,1] range. \n",
    "    img = tf.image.convert_image_dtype(img, tf.float32) \n",
    "    # resize the image to the desired size\n",
    "    return tf.image.resize(img, reshape_dims)  #this resize method - doesn't preserve the aspect ratio\n",
    "\n",
    " "
   ]
  },
  {
   "cell_type": "code",
   "execution_count": null,
   "metadata": {},
   "outputs": [
    {
     "ename": "",
     "evalue": "",
     "output_type": "error",
     "traceback": [
      "\u001b[1;31mThe Kernel crashed while executing code in the the current cell or a previous cell. Please review the code in the cell(s) to identify a possible cause of the failure. Click <a href='https://aka.ms/vscodeJupyterKernelCrash'>here</a> for more info. View Jupyter <a href='command:jupyter.viewOutput'>log</a> for further details."
     ]
    }
   ],
   "source": [
    "def show_image(filename):\n",
    "    img = read_and_decode(filename, [IMG_HEIGHT, IMG_WIDTH])\n",
    "    plt.imshow((img.numpy()));     # TF Tensor into numpy array \n",
    "\n",
    "show_image(\n",
    "    \"data_scraping\\\\Pictures\\\\african+maize+stalk+borer+in+Kenya\\\\2acefdd7-481a-40f4-b2b4-236688705209\"\n",
    ")"
   ]
  },
  {
   "cell_type": "code",
   "execution_count": 3,
   "metadata": {},
   "outputs": [
    {
     "name": "stdout",
     "output_type": "stream",
     "text": [
      "img_channel output: <class 'tensorflow.python.framework.ops.EagerTensor'>\n"
     ]
    },
    {
     "ename": "",
     "evalue": "",
     "output_type": "error",
     "traceback": [
      "\u001b[1;31mThe Kernel crashed while executing code in the the current cell or a previous cell. Please review the code in the cell(s) to identify a possible cause of the failure. Click <a href='https://aka.ms/vscodeJupyterKernelCrash'>here</a> for more info. View Jupyter <a href='command:jupyter.viewOutput'>log</a> for further details."
     ]
    }
   ],
   "source": [
    "def show_image(filename):\n",
    "    img = read_and_decode(filename, [IMG_HEIGHT, IMG_WIDTH])\n",
    "    plt.imshow((img.numpy()));     # TF Tensor into numpy array \n",
    "\n",
    "show_image(\n",
    "    \"data_scraping\\\\Pictures\\\\african+maize+stalk+borer+in+Kenya\\\\2acefdd7-481a-40f4-b2b4-236688705209.png\"\n",
    ")"
   ]
  },
  {
   "cell_type": "code",
   "execution_count": null,
   "metadata": {},
   "outputs": [],
   "source": []
  }
 ],
 "metadata": {
  "kernelspec": {
   "display_name": "base",
   "language": "python",
   "name": "python3"
  },
  "language_info": {
   "codemirror_mode": {
    "name": "ipython",
    "version": 3
   },
   "file_extension": ".py",
   "mimetype": "text/x-python",
   "name": "python",
   "nbconvert_exporter": "python",
   "pygments_lexer": "ipython3",
   "version": "3.10.11"
  },
  "orig_nbformat": 4
 },
 "nbformat": 4,
 "nbformat_minor": 2
}
